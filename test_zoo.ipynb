{
 "cells": [
  {
   "cell_type": "code",
   "execution_count": 1,
   "id": "849ba83d",
   "metadata": {},
   "outputs": [],
   "source": [
    "import importlib\n",
    "import zoo\n",
    "importlib.reload(zoo)\n",
    "q = zoo.AnimalShelter(\"aacuser\", \"snhu1234\")"
   ]
  },
  {
   "cell_type": "code",
   "execution_count": 2,
   "id": "9d8c9eea",
   "metadata": {},
   "outputs": [
    {
     "data": {
      "text/plain": [
       "True"
      ]
     },
     "execution_count": 2,
     "metadata": {},
     "output_type": "execute_result"
    }
   ],
   "source": [
    "q.input_is_valid({'key': 'value'})"
   ]
  },
  {
   "cell_type": "code",
   "execution_count": 3,
   "id": "4ec87834",
   "metadata": {},
   "outputs": [
    {
     "name": "stdout",
     "output_type": "stream",
     "text": [
      "Nothing to save, because data parameter is empty.\n"
     ]
    }
   ],
   "source": [
    "q.input_is_valid(None)"
   ]
  },
  {
   "cell_type": "code",
   "execution_count": 4,
   "id": "bb4700b2",
   "metadata": {},
   "outputs": [
    {
     "name": "stdout",
     "output_type": "stream",
     "text": [
      "Invalid input format. Expected JSON dictionary.\n"
     ]
    }
   ],
   "source": [
    "q.input_is_valid(['key', 'value'])"
   ]
  },
  {
   "cell_type": "code",
   "execution_count": 5,
   "id": "e133be70",
   "metadata": {},
   "outputs": [
    {
     "name": "stdout",
     "output_type": "stream",
     "text": [
      "Nothing to save, because data parameter is empty.\n",
      "False\n"
     ]
    }
   ],
   "source": [
    "print(q.create(None))"
   ]
  },
  {
   "cell_type": "code",
   "execution_count": 6,
   "id": "7009f1d1",
   "metadata": {},
   "outputs": [
    {
     "data": {
      "text/plain": [
       "True"
      ]
     },
     "execution_count": 6,
     "metadata": {},
     "output_type": "execute_result"
    }
   ],
   "source": [
    "q.create({'test key': 'test value'})"
   ]
  },
  {
   "cell_type": "code",
   "execution_count": 10,
   "id": "ec503a5c",
   "metadata": {},
   "outputs": [
    {
     "data": {
      "text/plain": [
       "[]"
      ]
     },
     "execution_count": 10,
     "metadata": {},
     "output_type": "execute_result"
    }
   ],
   "source": [
    "q.read({ '$and': [ { 'breed': { '$in': [\"Labrador Retriever Mix\", \"Newfoundland\"] } }, \n",
    "                  { 'sex': \"Intact Female\" }, { 'age': { '$gte': 26, '$lte': 156 } } ] })"
   ]
  },
  {
   "cell_type": "code",
   "execution_count": 24,
   "id": "25bebea6",
   "metadata": {},
   "outputs": [
    {
     "data": {
      "text/plain": [
       "[]"
      ]
     },
     "execution_count": 24,
     "metadata": {},
     "output_type": "execute_result"
    }
   ],
   "source": [
    "q.read({'bad key': 'test value'})"
   ]
  },
  {
   "cell_type": "code",
   "execution_count": 25,
   "id": "946727e1",
   "metadata": {},
   "outputs": [
    {
     "data": {
      "text/plain": [
       "[{'_id': ObjectId('671e902c55d4c5d12cf4d5c1'),\n",
       "  'test key': 'test value',\n",
       "  'new key': 'new value'},\n",
       " {'_id': ObjectId('671e902d55d4c5d12cf4d5c2'),\n",
       "  'test key': 'test value',\n",
       "  'new key': 'new value'},\n",
       " {'_id': ObjectId('671e940d55d4c5d12cf4d5c4'), 'test key': 'test value'}]"
      ]
     },
     "execution_count": 25,
     "metadata": {},
     "output_type": "execute_result"
    }
   ],
   "source": [
    "q.read({'test key': 'test value'})"
   ]
  },
  {
   "cell_type": "code",
   "execution_count": 26,
   "id": "940dc31e",
   "metadata": {},
   "outputs": [
    {
     "data": {
      "text/plain": [
       "True"
      ]
     },
     "execution_count": 26,
     "metadata": {},
     "output_type": "execute_result"
    }
   ],
   "source": [
    "q.create({'test key': 'test value'})"
   ]
  },
  {
   "cell_type": "code",
   "execution_count": 27,
   "id": "6f6e490a",
   "metadata": {},
   "outputs": [
    {
     "name": "stdout",
     "output_type": "stream",
     "text": [
      "Documents found: 4\n",
      "Documents modified: 2\n"
     ]
    },
    {
     "data": {
      "text/plain": [
       "2"
      ]
     },
     "execution_count": 27,
     "metadata": {},
     "output_type": "execute_result"
    }
   ],
   "source": [
    "q.update('test key', 'test value', {'new key': 'new value'})"
   ]
  },
  {
   "cell_type": "code",
   "execution_count": 28,
   "id": "72f1ec22",
   "metadata": {},
   "outputs": [
    {
     "data": {
      "text/plain": [
       "[{'_id': ObjectId('671e902c55d4c5d12cf4d5c1'),\n",
       "  'test key': 'test value',\n",
       "  'new key': 'new value'},\n",
       " {'_id': ObjectId('671e902d55d4c5d12cf4d5c2'),\n",
       "  'test key': 'test value',\n",
       "  'new key': 'new value'},\n",
       " {'_id': ObjectId('671e940d55d4c5d12cf4d5c4'),\n",
       "  'test key': 'test value',\n",
       "  'new key': 'new value'},\n",
       " {'_id': ObjectId('671e940e55d4c5d12cf4d5c5'),\n",
       "  'test key': 'test value',\n",
       "  'new key': 'new value'}]"
      ]
     },
     "execution_count": 28,
     "metadata": {},
     "output_type": "execute_result"
    }
   ],
   "source": [
    "q.read({'new key': 'new value'})"
   ]
  },
  {
   "cell_type": "code",
   "execution_count": 29,
   "id": "c156edf8",
   "metadata": {},
   "outputs": [
    {
     "name": "stdout",
     "output_type": "stream",
     "text": [
      "Documents deleted: 4\n"
     ]
    },
    {
     "data": {
      "text/plain": [
       "4"
      ]
     },
     "execution_count": 29,
     "metadata": {},
     "output_type": "execute_result"
    }
   ],
   "source": [
    "q.delete({'new key': 'new value'})"
   ]
  },
  {
   "cell_type": "code",
   "execution_count": 30,
   "id": "7f94094e",
   "metadata": {},
   "outputs": [
    {
     "data": {
      "text/plain": [
       "[]"
      ]
     },
     "execution_count": 30,
     "metadata": {},
     "output_type": "execute_result"
    }
   ],
   "source": [
    "q.read({'new key': 'new value'})"
   ]
  },
  {
   "cell_type": "code",
   "execution_count": null,
   "id": "bea74b33",
   "metadata": {},
   "outputs": [],
   "source": []
  }
 ],
 "metadata": {
  "kernelspec": {
   "display_name": "Python 3 (ipykernel)",
   "language": "python",
   "name": "python3"
  },
  "language_info": {
   "codemirror_mode": {
    "name": "ipython",
    "version": 3
   },
   "file_extension": ".py",
   "mimetype": "text/x-python",
   "name": "python",
   "nbconvert_exporter": "python",
   "pygments_lexer": "ipython3",
   "version": "3.9.12"
  }
 },
 "nbformat": 4,
 "nbformat_minor": 5
}
